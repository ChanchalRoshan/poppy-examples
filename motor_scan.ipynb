{
 "cells": [
  {
   "cell_type": "markdown",
   "metadata": {},
   "source": [
    "### Motors scan\n",
    "## Scan all ports to find the connected Dynamixel motors"
   ]
  },
  {
   "cell_type": "code",
   "execution_count": 1,
   "metadata": {
    "collapsed": false
   },
   "outputs": [
    {
     "name": "stdout",
     "output_type": "stream",
     "text": [
      "ports found ['/dev/ttyACM1', '/dev/ttyACM0', '/dev/ttyACM99']\n"
     ]
    }
   ],
   "source": [
    "import pypot.dynamixel\n",
    "\n",
    "ports = pypot.dynamixel.get_available_ports()\n",
    "if not ports:\n",
    "    raise IOError('no port found!')\n",
    "print 'ports found', ports"
   ]
  },
  {
   "cell_type": "code",
   "execution_count": 2,
   "metadata": {
    "collapsed": false
   },
   "outputs": [
    {
     "name": "stdout",
     "output_type": "stream",
     "text": [
      "/dev/ttyACM1\n",
      "scanning\n",
      "[31, 32, 33, 34, 35, 36, 37, 41, 42, 43, 44, 51, 52, 53, 54]\n",
      "/dev/ttyACM0\n",
      "scanning\n",
      "[11, 12, 13, 14, 15, 21, 22, 23, 24, 25]\n",
      "/dev/ttyACM99\n",
      "scanning\n",
      "[]\n"
     ]
    }
   ],
   "source": [
    "for port in ports:\n",
    "    print port\n",
    "    dxl_io = pypot.dynamixel.DxlIO(port, baudrate=1000000)\n",
    "    print \"scanning\"\n",
    "    found =  dxl_io.scan(range(60))\n",
    "    print found\n",
    "    dxl_io.close()"
   ]
  },
  {
   "cell_type": "markdown",
   "metadata": {},
   "source": [
    "![motor naming convention](./motor_naming_convention.jpg)"
   ]
  },
  {
   "cell_type": "code",
   "execution_count": null,
   "metadata": {
    "collapsed": true
   },
   "outputs": [],
   "source": []
  }
 ],
 "metadata": {
  "kernelspec": {
   "display_name": "Python 2",
   "language": "python",
   "name": "python2"
  },
  "language_info": {
   "codemirror_mode": {
    "name": "ipython",
    "version": 2
   },
   "file_extension": ".py",
   "mimetype": "text/x-python",
   "name": "python",
   "nbconvert_exporter": "python",
   "pygments_lexer": "ipython2",
   "version": "2.7.9"
  }
 },
 "nbformat": 4,
 "nbformat_minor": 0
}
